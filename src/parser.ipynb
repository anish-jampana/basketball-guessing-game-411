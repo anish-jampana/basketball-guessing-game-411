{
 "cells": [
  {
   "cell_type": "code",
   "execution_count": null,
   "id": "849edc83",
   "metadata": {},
   "outputs": [],
   "source": [
    "!pip3 install mysql-connector-python"
   ]
  },
  {
   "cell_type": "code",
   "execution_count": null,
   "id": "02321221",
   "metadata": {},
   "outputs": [],
   "source": [
    "import mysql.connector\n",
    "from mysql.connector import Error\n",
    "import pandas as pd\n",
    "import getpass\n",
    "import nba_api as nba\n",
    "import tqdm\n",
    "#Function citations https://www.freecodecamp.org/news/connect-python-with-sql/\n",
    "#https://github.com/swar/nba_api/blob/master/docs/nba_api/stats/endpoints/playergamelog.md"
   ]
  },
  {
   "cell_type": "code",
   "execution_count": null,
   "id": "643cad65",
   "metadata": {},
   "outputs": [],
   "source": [
    "def create_server_connection(host_name, user_name, user_password):\n",
    "    \"\"\"\n",
    "    Connect to mySql Server\n",
    "    \"\"\"\n",
    "    connection = None\n",
    "    try:\n",
    "        connection = mysql.connector.connect(\n",
    "            host=host_name,\n",
    "            user=user_name,\n",
    "            passwd=user_password\n",
    "        )\n",
    "        print(\"MySQL Database connection successful\")\n",
    "    except Error as err:\n",
    "        print(f\"Error: '{err}'\")\n",
    "\n",
    "    return connection\n",
    "\n",
    "\n",
    "connection = create_server_connection(\"localhost\", \"root\")"
   ]
  },
  {
   "cell_type": "code",
   "execution_count": null,
   "id": "702a1f12",
   "metadata": {},
   "outputs": [],
   "source": [
    "def create_database(connection, query):\n",
    "    \"\"\"\n",
    "    From: https://www.freecodecamp.org/news/connect-python-with-sql/\n",
    "    \"\"\"\n",
    "    cursor = connection.cursor()\n",
    "    try:\n",
    "        cursor.execute(query)\n",
    "        print(\"Database created successfully\")\n",
    "    except Error as err:\n",
    "        print(f\"Error: '{err}'\")\n",
    "        \n",
    "        \n",
    "create_database_query = \"CREATE DATABASE PickAndRoll\"\n",
    "create_database(connection, create_database_query)"
   ]
  },
  {
   "cell_type": "code",
   "execution_count": null,
   "id": "d04abae2",
   "metadata": {},
   "outputs": [],
   "source": [
    "def create_db_connection(host_name, user_name, db_name):\n",
    "    \"\"\"\n",
    "    From: https://www.freecodecamp.org/news/connect-python-with-sql/\n",
    "    \"\"\"\n",
    "    user_password = getpass.getpass(\"Password\")\n",
    "    connection = None\n",
    "    try:\n",
    "        connection = mysql.connector.connect(\n",
    "            host=host_name,\n",
    "            user=user_name,\n",
    "            passwd=user_password,\n",
    "            database=db_name\n",
    "        )\n",
    "        print(\"MySQL Database connection successful\")\n",
    "    except Error as err:\n",
    "        print(f\"Error: '{err}'\")\n",
    "\n",
    "    return connection\n",
    "connection = create_db_connection(\"localhost\", \"root\", \"PickAndRoll\")"
   ]
  },
  {
   "cell_type": "code",
   "execution_count": null,
   "id": "31d845a3",
   "metadata": {
    "scrolled": true
   },
   "outputs": [],
   "source": [
    "def execute_query(connection, query):\n",
    "    \"\"\"\n",
    "    From: https://www.freecodecamp.org/news/connect-python-with-sql/\n",
    "    \"\"\"\n",
    "    cursor = connection.cursor()\n",
    "    try:\n",
    "        cursor.execute(query)\n",
    "        connection.commit()\n",
    "        # print(\"Query successful\")\n",
    "        # return record\n",
    "    except Error as err:\n",
    "        print(f\"Error: '{err}'\")\n",
    "        \n",
    "drop_table_organization = \"\"\"DROP TABLE Organization;\"\"\"\n",
    "execute_query(connection, drop_table_organization)        \n",
    "create_table_organization = \"\"\"CREATE TABLE Organization (\n",
    "    OrgId INT,\n",
    "    OrgAbbv VARCHAR(5),\n",
    "    OrgName VARCHAR(255),\n",
    "    PRIMARY KEY(OrgId)\n",
    ");\n",
    "\"\"\"\n",
    "print(create_table_organization)\n",
    "execute_query(connection, create_table_organization)"
   ]
  },
  {
   "cell_type": "code",
   "execution_count": null,
   "id": "89523c2d",
   "metadata": {},
   "outputs": [],
   "source": [
    "drop_table_team = \"\"\"DROP TABLE Team;\"\"\"\n",
    "execute_query(connection, drop_table_team)\n",
    "create_table_team = \"\"\"CREATE TABLE Team (\n",
    "    TeamId INT,\n",
    "    Year INT,\n",
    "    OrgId INT,\n",
    "    PRIMARY KEY(TeamId),\n",
    "    FOREIGN KEY (OrgId) REFERENCES Organization(OrgId) ON DELETE CASCADE\n",
    ");\n",
    "\"\"\"\n",
    "execute_query(connection, create_table_team)"
   ]
  },
  {
   "cell_type": "code",
   "execution_count": null,
   "id": "afefb340",
   "metadata": {},
   "outputs": [],
   "source": [
    "drop_table_player = \"\"\"DROP TABLE Player;\"\"\"\n",
    "execute_query(connection, drop_table_player)\n",
    "create_table_player = \"\"\"CREATE TABLE Player (\n",
    "    PlayerId INT,\n",
    "    FirstName VARCHAR(255),\n",
    "    LastName VARCHAR(255),\n",
    "    Height VARCHAR(255),\n",
    "    Weight INT,\n",
    "    PRIMARY KEY(PlayerId)\n",
    ");\n",
    "\"\"\"\n",
    "execute_query(connection, create_table_player)"
   ]
  },
  {
   "cell_type": "code",
   "execution_count": null,
   "id": "3a872b34",
   "metadata": {},
   "outputs": [],
   "source": [
    "drop_table_game = \"\"\"DROP TABLE Game;\"\"\"\n",
    "execute_query(connection, drop_table_game)\n",
    "create_table_game = \"\"\"CREATE TABLE Game (\n",
    "    GameId INT,\n",
    "    Date Date,\n",
    "    HomeScore INT,\n",
    "    AwayScore INT,\n",
    "    HomeTeamId INT,\n",
    "    AwayTeamId INT,\n",
    "    PRIMARY KEY(GameId),\n",
    "    FOREIGN KEY(HomeTeamId) REFERENCES Team(TeamId) ON DELETE CASCADE,\n",
    "    FOREIGN KEY(AwayTeamId) REFERENCES Team(TeamId) ON DELETE CASCADE\n",
    ");\n",
    "\"\"\"\n",
    "execute_query(connection, create_table_game)"
   ]
  },
  {
   "cell_type": "code",
   "execution_count": null,
   "id": "ee0d2b6d",
   "metadata": {},
   "outputs": [],
   "source": [
    "# drop_table_box_score = \"\"\"DROP TABLE BoxScore;\"\"\"\n",
    "# execute_query(connection, drop_table_box_score)\n",
    "create_table_box_score = \"\"\"CREATE TABLE BoxScore (\n",
    "   BoxScoreId INT PRIMARY KEY,\n",
    "   Pts INT,\n",
    "   Asts INT,\n",
    "   Rebs INT,\n",
    "   Blks INT,\n",
    "   Stls INT,\n",
    "   TOs INT,\n",
    "   FGM INT,\n",
    "   FGA INT,\n",
    "   TPM INT,\n",
    "   TPA INT,\n",
    "   FTM INT,\n",
    "   FTA INT,\n",
    "   PlayerId INT,\n",
    "   GameId INT,\n",
    "   FOREIGN KEY(PlayerId) REFERENCES Player(PlayerId) ON DELETE CASCADE,\n",
    "   FOREIGN KEY(GameId) REFERENCES Game(GameId) ON DELETE CASCADE\n",
    ");\n",
    "\"\"\"\n",
    "execute_query(connection, create_table_box_score)"
   ]
  },
  {
   "cell_type": "code",
   "execution_count": null,
   "id": "d8e79658",
   "metadata": {},
   "outputs": [],
   "source": [
    "drop_table_sign = \"\"\"DROP TABLE Sign;\"\"\"\n",
    "execute_query(connection, drop_table_sign)\n",
    "create_table_sign = \"\"\"CREATE TABLE Sign (\n",
    "   TeamId INT,\n",
    "   PlayerId INT,\n",
    "   Year INT,\n",
    "   PRIMARY KEY (TeamId, PlayerId),\n",
    "   FOREIGN KEY(TeamId) REFERENCES Team(TeamId) ON DELETE CASCADE,\n",
    "   FOREIGN KEY(PlayerId) REFERENCES Player(PlayerId) ON DELETE CASCADE\n",
    ");\n",
    "\"\"\"\n",
    "execute_query(connection, create_table_sign)"
   ]
  },
  {
   "cell_type": "code",
   "execution_count": null,
   "id": "e62a828d",
   "metadata": {},
   "outputs": [],
   "source": [
    "# drop_table_player_play = \"\"\"DROP TABLE PlayerPlay\"\"\"\n",
    "# execute_query(connection, drop_table_player_play)\n",
    "create_table_player_play = \"\"\"CREATE TABLE PlayerPlay (\n",
    "    GameId INT,\n",
    "    PlayerId INT,\n",
    "    PRIMARY KEY (GameId, PlayerId),   \n",
    "    FOREIGN KEY(GameId) REFERENCES Game(GameId) ON DELETE CASCADE,\n",
    "    FOREIGN KEY(PlayerId) REFERENCES Player(PlayerId) ON DELETE CASCADE\n",
    ")\n",
    "\"\"\"\n",
    "execute_query(connection, create_table_player_play)"
   ]
  },
  {
   "cell_type": "code",
   "execution_count": null,
   "id": "ad78ca20",
   "metadata": {},
   "outputs": [],
   "source": [
    "drop_table_guesser_instance = \"\"\"DROP TABLE GuesserInstance\"\"\"\n",
    "execute_query(connection, drop_table_guesser_instance)\n",
    "create_table_guesser_instance = \"\"\"CREATE TABLE GuesserInstance (\n",
    "    GameId INT PRIMARY KEY,\n",
    "    NumGuesses INT,\n",
    "    Name VARCHAR(255), \n",
    "    GaveUp BOOLEAN,\n",
    "    UserId INT,\n",
    "    FOREIGN KEY(UserId) REFERENCES User(UserId) ON DELETE CASCADE\n",
    ")\n",
    "\"\"\"\n",
    "execute_query(connection, create_table_guesser_instance)"
   ]
  },
  {
   "cell_type": "code",
   "execution_count": null,
   "id": "c841ef98",
   "metadata": {},
   "outputs": [],
   "source": [
    "drop_table_user = \"\"\"DROP TABLE User\"\"\"\n",
    "execute_query(connection, drop_table_user)\n",
    "create_table_user = \"\"\"CREATE TABLE User (\n",
    "    UserId INT PRIMARY KEY,\n",
    "    Name VARCHAR(255)\n",
    ")\n",
    "\"\"\"\n",
    "execute_query(connection, create_table_user)"
   ]
  },
  {
   "cell_type": "code",
   "execution_count": null,
   "id": "edb4c860",
   "metadata": {
    "scrolled": true
   },
   "outputs": [],
   "source": [
    "from nba_api.stats.static import teams\n",
    "all_teams = teams.get_teams()\n",
    "org_tuples = []\n",
    "for team in all_teams:\n",
    "    org_tuples.append((team['id'], team['abbreviation'], team['full_name']))\n",
    "\n",
    "for tup in org_tuples:\n",
    "    insert_org = f\"\"\"INSERT INTO Organization(OrgId, OrgAbbv, OrgName)\n",
    "VALUES{tup};\"\"\"\n",
    "    execute_query(connection, insert_org)\n",
    "\n"
   ]
  },
  {
   "cell_type": "code",
   "execution_count": null,
   "id": "d33fa282",
   "metadata": {
    "scrolled": false
   },
   "outputs": [],
   "source": [
    "from nba_api.stats.static import teams\n",
    "all_teams = teams.get_teams()\n",
    "teams_tuples = []\n",
    "index = 1\n",
    "for team in all_teams:\n",
    "    for j in range(2):\n",
    "        teams_tuples.append((index + j, f'202{j}',team['id']))\n",
    "    index += 2\n",
    "for tup in teams_tuples:\n",
    "    insert_team = f\"\"\"INSERT INTO Team(TeamId, Year, OrgId)\n",
    "VALUES{tup};\"\"\"\n",
    "    execute_query(connection, insert_team)"
   ]
  },
  {
   "cell_type": "code",
   "execution_count": null,
   "id": "bce561f9",
   "metadata": {},
   "outputs": [],
   "source": [
    "from nba_api.stats.endpoints.commonallplayers import CommonAllPlayers\n",
    "\n",
    "all_players = CommonAllPlayers(league_id='00')\n",
    "df = all_players.common_all_players.get_data_frame()\n",
    "df.drop_duplicates().sort_values(by=['PERSON_ID'])\n",
    "df['TO_YEAR'] = df['TO_YEAR'].astype('int')\n",
    "\n",
    "\n",
    "recent_players_df = df[df['TO_YEAR'] >= 2020]\n",
    "player_ids = recent_players_df['PERSON_ID'].values.tolist()"
   ]
  },
  {
   "cell_type": "code",
   "execution_count": null,
   "id": "7bb1d5f8",
   "metadata": {},
   "outputs": [],
   "source": [
    "from nba_api.stats.endpoints.commonplayerinfo import CommonPlayerInfo\n",
    "from tqdm import tqdm\n",
    "import pandas as pd\n",
    "\n",
    "data = pd.DataFrame(columns=['PERSON_ID', 'FIRST_NAME', 'LAST_NAME', 'HEIGHT', 'WEIGHT'])\n",
    "\n",
    "for i in tqdm(range(len(player_ids))):\n",
    "    player = CommonPlayerInfo(player_id=player_ids[i]).common_player_info.get_data_frame()\n",
    "    player = player[['PERSON_ID', 'FIRST_NAME', 'LAST_NAME', 'HEIGHT', 'WEIGHT']]\n",
    "    data = pd.concat([data,player], axis=0)"
   ]
  },
  {
   "cell_type": "code",
   "execution_count": null,
   "id": "04b39e49",
   "metadata": {},
   "outputs": [],
   "source": [
    "nba_api_to_guesser_2020 = {}\n",
    "nba_api_to_guesser_2021 = {}\n",
    "i = 1\n",
    "for team in all_teams:\n",
    "    nba_api_to_guesser_2020[team['id']] = i\n",
    "    nba_api_to_guesser_2021[team['id']] = i + 1\n",
    "    i += 2\n",
    "print(nba_api_to_guesser_2020, nba_api_to_guesser_2021)"
   ]
  },
  {
   "cell_type": "code",
   "execution_count": null,
   "id": "9bb08d7a",
   "metadata": {},
   "outputs": [],
   "source": [
    "df = pd.read_csv(\"players.csv\", usecols=range(1,6))\n",
    "for player in list(df.itertuples(index=False, name=None)):\n",
    "    player_query = f\"\"\"INSERT INTO Player(PlayerId, FirstName, LastName, Height, Weight)\n",
    "    VALUES{player}\"\"\"\n",
    "    execute_query(connection, player_query)"
   ]
  },
  {
   "cell_type": "code",
   "execution_count": null,
   "id": "6c7e729e",
   "metadata": {},
   "outputs": [],
   "source": [
    "from nba_api.stats.endpoints.leaguegamelog import LeagueGameLog\n",
    "\n",
    "all_games = LeagueGameLog(league_id='00', season=\"2020-21\", season_type_all_star=\"Regular Season\")\n",
    "df = all_games.league_game_log.get_data_frame()\n",
    "df.drop_duplicates().sort_values(by=['GAME_ID'])\n",
    "# df['TO_YEAR'] = df['TO_YEAR'].astype('int')\n",
    "\n",
    "\n",
    "# recent_players_df = df[df['TO_YEAR'] >= 2020]\n",
    "# player_ids = recent_players_df['PERSON_ID'].values.tolist()\n",
    "# print(df)\n",
    "# df.to_csv(\"games.csv\")\n",
    "\n",
    "\n",
    "\n",
    "\n",
    "data = pd.DataFrame(columns=['GAME_ID', 'GAME_DATE', 'HOME_SCORE', 'AWAY_SCORE', 'HOME_TEAM_ID', 'AWAY_TEAM_ID'])\n",
    "for i in tqdm(range(0, len(df), 2)):\n",
    "    game = {'GAME_ID': df.loc[i]['GAME_ID'], 'GAME_DATE': df.loc[i]['GAME_DATE'], 'HOME_SCORE': df.loc[i]['PTS'], 'AWAY_SCORE': df.loc[i + 1]['PTS'], 'HOME_TEAM_ID': df.loc[i]['TEAM_ID'], 'AWAY_TEAM_ID': df.loc[i + 1]['TEAM_ID']}\n",
    "    if \n",
    "    game = pd.Series(game)\n",
    "    # print(game)\n",
    "#     player = CommonPlayerInfo(player_id=player_ids[i]).common_player_info.get_data_frame()\n",
    "#     player = player[['PERSON_ID', 'FIRST_NAME', 'LAST_NAME', 'HEIGHT', 'WEIGHT']]\n",
    "    data = data.append(game, ignore_index = True)  \n",
    "print(data)"
   ]
  },
  {
   "cell_type": "code",
   "execution_count": null,
   "id": "de095085",
   "metadata": {},
   "outputs": [],
   "source": [
    "# \n",
    "# data.to_csv(\"games2020-2021.csv\")\n",
    "all_teams = teams.get_teams()\n",
    "df = pd.read_csv(\"csv/games2021-2022.csv\", usecols=range(1,7))\n",
    "# print(df)\n",
    "for game in list(df.itertuples(index=False, name=None)):\n",
    "    game = list(game)\n",
    "    game[-1] = nba_api_to_guesser_2021[game[-1]]\n",
    "    game[-2] = nba_api_to_guesser_2021[game[-2]] \n",
    "    # print(game)\n",
    "\n",
    "    game_query = f\"\"\"INSERT INTO Game(GameId, Date, HomeScore, AwayScore, HomeTeamId, AwayTeamId)\n",
    "    VALUES{tuple(game)}\"\"\"\n",
    "    execute_query(connection, game_query)"
   ]
  },
  {
   "cell_type": "code",
   "execution_count": null,
   "id": "d6a5c558",
   "metadata": {},
   "outputs": [],
   "source": [
    "from nba_api.stats.endpoints.commonteamroster import CommonTeamRoster\n",
    "from nba_api.stats.static import teams\n",
    "all_teams = teams.get_teams()\n",
    "import time\n",
    "# # print(all_teams)\n",
    "df = pd.DataFrame(columns=['TeamID', 'SEASON', 'LeagueID', 'PLAYER', 'PLAYER_SLUG', 'NUM', 'POSITION', 'HEIGHT', 'WEIGHT', 'BIRTH_DATE', 'AGE', 'EXP', 'SCHOOL', 'PLAYER_ID'])\n",
    "for l in tqdm(range(len(all_teams))):\n",
    "    rosters = CommonTeamRoster(season = \"2020\", team_id= all_teams[l]['id'])\n",
    "    df = pd.concat([df, rosters.common_team_roster.get_data_frame()], axis = 0)\n",
    "    time.sleep(.600)\n",
    "\n",
    "# df.to_csv(\"sign2020.csv\")"
   ]
  },
  {
   "cell_type": "code",
   "execution_count": null,
   "id": "5564781a",
   "metadata": {},
   "outputs": [],
   "source": [
    "\n",
    "sign = pd.read_csv(\"sign2021.csv\", usecols = range(1, 16))\n",
    "\n",
    "sign.drop(['LeagueID', 'PLAYER', 'PLAYER_SLUG', 'NUM', 'POSITION', 'HEIGHT', 'WEIGHT', 'BIRTH_DATE', 'AGE', 'EXP', 'SCHOOL', 'NICKNAME'], axis = 1, inplace=True)\n",
    "# print(sign)\n",
    "\n",
    "for signings in list(sign.itertuples(index=False, name=None)):\n",
    "    signings = list(signings)\n",
    "    signings[0] = nba_api_to_guesser_2021[signings[0]]\n",
    "    # print(signings)\n",
    "    sign_query = f\"\"\"INSERT INTO Sign(TeamId, Year, PlayerId)\n",
    "    VALUES{tuple(signings)}\"\"\"\n",
    "    execute_query(connection, sign_query)"
   ]
  },
  {
   "cell_type": "code",
   "execution_count": null,
   "id": "870f834a",
   "metadata": {},
   "outputs": [],
   "source": [
    "query = \"\"\"SELECT COUNT(*)\n",
    "FROM (\n",
    "    SELECT g1.GameId\n",
    "    FROM Team t1 JOIN Game g1 ON(t1.TeamId = g1.HomeTeamId)\n",
    "    WHERE (g1.HomeScore > g1.AwayScore AND g1.HomeTeamId = 1610612737)\n",
    "\n",
    "    UNION\n",
    "\n",
    "    SELECT g2.GameId\n",
    "    FROM Team t2 JOIN Game g2 ON(t2.TeamId = g2.AwayTeamId)\n",
    "    WHERE (g2.AwayScore > g2.HomeScore AND g2.AwayTeamId = 1610612737)\n",
    ") AS winning_games;\"\"\"\n",
    "print(query)\n",
    "execute_query(connection, query)"
   ]
  },
  {
   "cell_type": "code",
   "execution_count": null,
   "id": "3e2b3ac7",
   "metadata": {},
   "outputs": [],
   "source": [
    "# %pip install numba\n",
    "twenty_games = pd.read_csv(\"csv/games2021-2022.csv\", usecols=range(1,7))\n",
    "from tqdm import tqdm \n",
    "import time\n",
    "# print(twenty_games)\n",
    "import numpy as np\n",
    "from numba import prange, njit\n",
    "\n",
    "from nba_api.stats.endpoints import boxscoretraditionalv2\n",
    "\n",
    "\n",
    "# print(twenty_games)\n",
    "boxscore = []\n",
    "# print(boxscore)\n",
    "# p\n",
    "\n",
    "# @njit(parallel=True, nopython=True)\n",
    "# def insert_boxscore(entry, boxscore):\n",
    "#     response = boxscoretraditionalv2.BoxScoreTraditionalV2(game_id= \"00\" + str(entry))\n",
    "#     df = response.player_stats.get_data_frame()\n",
    "#     # print(df.keys())\n",
    "#     boxscore = pd.concat([boxscore, df])\n",
    "#     time.sleep(0.600)\n",
    "\n",
    "\n",
    "# def func():\n",
    "#     boxscore = pd.DataFrame(columns = ['GAME_ID', 'TEAM_ID', 'TEAM_ABBREVIATION', 'TEAM_CITY', 'PLAYER_ID',\n",
    "#        'PLAYER_NAME', 'NICKNAME', 'START_POSITION', 'COMMENT', 'MIN', 'FGM',\n",
    "#        'FGA', 'FG_PCT', 'FG3M', 'FG3A', 'FG3_PCT', 'FTM', 'FTA', 'FT_PCT',\n",
    "#        'OREB', 'DREB', 'REB', 'AST', 'STL', 'BLK', 'TO', 'PF', 'PTS',\n",
    "#        'PLUS_MINUS'])\n",
    "for game_id_index in tqdm(range(len(twenty_games['GAME_ID']))):\n",
    "    response = boxscoretraditionalv2.BoxScoreTraditionalV2(game_id= \"00\" + str(twenty_games['GAME_ID'][game_id_index]))\n",
    "    df = response.player_stats.get_data_frame()\n",
    "    # print(df.keys())\n",
    "    boxscore.append(df)\n",
    "    time.sleep(0.600)\n",
    "\n",
    "\n",
    "\n",
    "# print(boxscore)\n",
    "# print(df)\n",
    "    # break"
   ]
  },
  {
   "cell_type": "code",
   "execution_count": null,
   "id": "1912946f",
   "metadata": {},
   "outputs": [],
   "source": [
    "print(len(boxscore))\n",
    "\n",
    "boxscore_csv = boxscore[0]\n",
    "\n",
    "for i in tqdm(range(1, len(boxscore))):\n",
    "    boxscore_csv = pd.concat([boxscore_csv, boxscore[i]])\n",
    "\n",
    "\n",
    "boxscore_csv.to_csv(\"boxscores_2021_2022.csv\")\n",
    "\n",
    "\n"
   ]
  },
  {
   "cell_type": "code",
   "execution_count": null,
   "id": "953b83a8",
   "metadata": {},
   "outputs": [],
   "source": [
    "connection = create_db_connection(\"localhost\", \"root\", \"PickAndRoll\")"
   ]
  },
  {
   "cell_type": "code",
   "execution_count": null,
   "id": "c3960700",
   "metadata": {},
   "outputs": [],
   "source": [
    "# boxscore_csv = pd.read_csv(\"boxscores.csv\", usecols=range(1))\n",
    "# print(boxscore_csv.drop(['TEAM_ABBREVIATION', 'TEAM_CITY','PLAYER_NAME', 'NICKNAME', 'START_POSITION', 'COMMENT', 'MIN', 'FG_PCT', 'FG3_PCT', 'FT_PCT','OREB', 'DREB', 'TEAM_ID', 'PF','PLUS_MINUS'], axis = 1, inplace=True))\n",
    "# boxscore_csv.fillna(0, inplace=True)\n",
    "print(boxscore_csv)\n",
    "# for value in boxscore_csv['Game_ID']\n",
    "# boxscore_csv.drop('Unnamed: 0', axis = 1, inplace=True)\n",
    "\n",
    "# print(connection.disconnect())\n",
    "connection = create_db_connection(\"localhost\", \"root\", \"PickAndRoll\")\n",
    "i = 28860\n",
    "\n",
    "boxscore_list = list(boxscore_csv.itertuples(index=False, name=None))\n",
    "# print(boxscore_csv.keys())\n",
    "for box in tqdm(range(len(boxscore_list))):\n",
    "    boxscore_list[box] = list(boxscore_list[box])\n",
    "    boxscore_list[box].append(i)\n",
    "    for value in range(len(boxscore_list[box])):\n",
    "        if type(boxscore_list[box][value]) == float:\n",
    "           boxscore_list[box][value] = int(boxscore_list[box][value]) \n",
    "    boxscore_list[box] = tuple(boxscore_list[box])\n",
    "    # print(boxscore_list[box])\n",
    "\n",
    "\n",
    "    boxScoreQuery = f\"\"\"INSERT INTO BoxScore(GameId, PlayerId, FGM, FGA, TPM, TPA, FTM, FTA, Rebs, Asts, Stls, Blks, TOs, Pts, BoxScoreId)\n",
    "    VALUES{boxscore_list[box]}\"\"\"\n",
    "    execute_query(connection, boxScoreQuery)\n",
    "    i+=1\n",
    "#     # break"
   ]
  },
  {
   "cell_type": "code",
   "execution_count": null,
   "id": "2f0df3e9",
   "metadata": {},
   "outputs": [],
   "source": [
    "import numpy as np\n",
    "boxscore_csv.replace([None], [0], inplace=True)\n",
    "\n",
    "# boxscore_csv = boxscore_csv.astype(\"int\")\n",
    "\n",
    "print(boxscore_csv)"
   ]
  },
  {
   "cell_type": "code",
   "execution_count": null,
   "id": "561b36f2",
   "metadata": {},
   "outputs": [],
   "source": [
    "players_play = pd.read_csv(\"playerplay.csv\", usecols=(1,2))\n",
    "print(players_play)\n",
    "\n",
    "\n",
    "pp = list(players_play.itertuples(index=False, name=None))\n",
    "for index in tqdm(range(len(pp))):\n",
    "    # print(pp[index])\n",
    "    pp_query = f\"\"\"INSERT INTO PlayerPlay(PlayerId, GameId)\n",
    "    VALUES{pp[index]};\n",
    "    \"\"\"\n",
    "    execute_query(connection, pp_query)\n",
    "    # break"
   ]
  },
  {
   "cell_type": "code",
   "execution_count": null,
   "id": "d9d5da07",
   "metadata": {},
   "outputs": [],
   "source": []
  }
 ],
 "metadata": {
  "kernelspec": {
   "display_name": "Python 3.9.4 64-bit",
   "language": "python",
   "name": "python3"
  },
  "language_info": {
   "codemirror_mode": {
    "name": "ipython",
    "version": 3
   },
   "file_extension": ".py",
   "mimetype": "text/x-python",
   "name": "python",
   "nbconvert_exporter": "python",
   "pygments_lexer": "ipython3",
   "version": "3.9.4"
  },
  "vscode": {
   "interpreter": {
    "hash": "aee8b7b246df8f9039afb4144a1f6fd8d2ca17a180786b69acc140d282b71a49"
   }
  }
 },
 "nbformat": 4,
 "nbformat_minor": 5
}
